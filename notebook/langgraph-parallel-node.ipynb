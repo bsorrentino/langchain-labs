{
 "cells": [
  {
   "cell_type": "markdown",
   "metadata": {},
   "source": [
    "# How to create branches for parallel node execution¶\n",
    "\n",
    "LangGraph natively supports fan-out and fan-in using either regular edges or conditionalEdges.\n",
    "\n",
    "This lets you run nodes in parallel to speed up your total graph execution.\n",
    "\n",
    "Below are some examples showing how to add create branching dataflows that work for you.\n",
    "\n"
   ]
  },
  {
   "cell_type": "code",
   "execution_count": 2,
   "metadata": {},
   "outputs": [],
   "source": [
    "import { END, START, StateGraph, Annotation } from \"@langchain/langgraph\";\n",
    "\n",
    "const StateAnnotation = Annotation.Root({\n",
    "  aggregate: Annotation<string[]>({\n",
    "    reducer: (x, y) => x.concat(y),\n",
    "  })\n",
    "});\n",
    "\n",
    "// Create the graph\n",
    "const nodeA = (state: typeof StateAnnotation.State) => {\n",
    "  console.log(`Adding I'm A to ${state.aggregate}`);\n",
    "  return { aggregate: [`I'm A`] };\n",
    "};\n",
    "const nodeB = (state: typeof StateAnnotation.State) => {\n",
    "  console.log(`Adding I'm B to ${state.aggregate}`);\n",
    "  return { aggregate: [`I'm B`] };\n",
    "};\n",
    "const nodeC = (state: typeof StateAnnotation.State) => {\n",
    "  console.log(`Adding I'm C to ${state.aggregate}`);\n",
    "  return { aggregate: [`I'm C`] };\n",
    "};\n",
    "const nodeD = (state: typeof StateAnnotation.State) => {\n",
    "  console.log(`Adding I'm D to ${state.aggregate}`);\n",
    "  return { aggregate: [`I'm D`] };\n",
    "};\n",
    "\n",
    "const builder = new StateGraph(StateAnnotation)\n",
    "  .addNode(\"a\", nodeA)\n",
    "  .addEdge(START, \"a\")\n",
    "  .addNode(\"b\", nodeB)\n",
    "  .addNode(\"c\", nodeC)\n",
    "  .addNode(\"d\", nodeD)\n",
    "  .addEdge(\"a\", \"b\")\n",
    "  .addEdge(\"a\", \"c\")\n",
    "  .addEdge(\"b\", \"d\")\n",
    "  .addEdge(\"c\", \"d\")\n",
    "  .addEdge(\"d\", END);\n",
    "\n",
    "const graph = builder.compile();"
   ]
  },
  {
   "cell_type": "code",
   "execution_count": null,
   "metadata": {},
   "outputs": [
    {
     "data": {
      "image/jpeg": "[encoded data removed]"
     },
     "execution_count": 8,
     "metadata": {},
     "output_type": "execute_result"
    }
   ],
   "source": [
    "const representation = graph.getGraph();\n",
    "const image = await representation.drawMermaidPng();\n",
    "const unit8Array = await image.bytes();\n",
    "\n",
    "Deno.jupyter.image(unit8Array);"
   ]
  },
  {
   "cell_type": "code",
   "execution_count": 9,
   "metadata": {},
   "outputs": [
    {
     "name": "stdout",
     "output_type": "stream",
     "text": [
      "Adding I'm A to \n",
      "Adding I'm B to I'm A\n",
      "Adding I'm C to I'm A\n",
      "Adding I'm D to I'm A,I'm B,I'm C\n",
      "Base Result:  { aggregate: [ \"I'm A\", \"I'm B\", \"I'm C\", \"I'm D\" ] }\n"
     ]
    }
   ],
   "source": [
    "// Invoke the graph\n",
    "const baseResult = await graph.invoke({ aggregate: [] });\n",
    "console.log(\"Base Result: \", baseResult);"
   ]
  }
 ],
 "metadata": {
  "kernelspec": {
   "display_name": "Deno",
   "language": "typescript",
   "name": "deno"
  },
  "language_info": {
   "codemirror_mode": "typescript",
   "file_extension": ".ts",
   "mimetype": "text/x.typescript",
   "name": "typescript",
   "nbconvert_exporter": "script",
   "pygments_lexer": "typescript",
   "version": "5.6.2"
  }
 },
 "nbformat": 4,
 "nbformat_minor": 2
}
