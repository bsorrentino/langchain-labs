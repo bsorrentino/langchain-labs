{
 "cells": [
  {
   "cell_type": "markdown",
   "metadata": {},
   "source": [
    "\n",
    "## Langchain\n"
   ]
  },
  {
   "cell_type": "code",
   "execution_count": 2,
   "metadata": {},
   "outputs": [
    {
     "name": "stdout",
     "output_type": "stream",
     "text": [
      "Found existing installation: text-generation 0.6.1\n",
      "Uninstalling text-generation-0.6.1:\n",
      "  Successfully uninstalled text-generation-0.6.1\n"
     ]
    }
   ],
   "source": [
    "# !pip3 install langchain\n",
    "# !pip3 uninstall text_generation -y"
   ]
  },
  {
   "cell_type": "code",
   "execution_count": 4,
   "metadata": {},
   "outputs": [
    {
     "name": "stdout",
     "output_type": "stream",
     "text": [
      "[Document(page_content='\\ufeffBartolomeo SORRENTINO\\n\\n\\nCONTACT INFORMATION         \\n\\n\\n\\n\\nMobile.: \\n\\t+39 3453683869\\n\\tEmail: \\n\\tbartolomeo.sorrentino@soulsoftware.eu\\nbartolomeo.sorrentino@softphone.it\\n\\tLinkedIn: \\n\\twww.linkedin.com/in/bartolomeosorrentino\\n\\tBlog: \\n\\tsoulsoftware-bsc.blogspot.it/\\nhttps://bsorrentino.github.io/bsorrentino/\\n\\tTwitter: \\n\\thttps://twitter.com/bsorrentinoJ\\n\\tGithub:\\n\\thttps://github.com/bsorrentino\\n\\tStackOverflow\\n\\thttps://stackoverflow.com/users/521197/bsorrentino\\n\\t\\n\\nPERSONAL INFORMATION\\n\\n\\nNationality.: \\n\\tItalian\\n\\tBirth Date: \\n\\tMarch 9, 1968\\n\\tMarital Status: \\n\\tMarried\\n\\tResident in:\\n\\tMercogliano (AV) - Italy\\n\\t\\n\\n\\n\\nPROFILE         \\n\\n\\nBartolomeo Sorrentino is a Principal Software Architect with over 25 years of experience.  He is an expert in the design and implementation of complex software architecture, the setup of Software Factory (both processes and tools) and leading development teams (also geographical distributed) in projects with specific focus on quality and functionality.\\n\\n\\nBartolomeo is an active contributor to  the open source ecosystem.  He leads several projects and contributes to many others. \\n\\n\\nHe has worked for the past years with a variety of companies in different domains, both product and service (e.g. Siemens Business Services) across several countries in Europe (France, UK, Germany) and US. \\n\\n\\nHe currently is the CTO of Softphone  S.r.l. an Italian company whose core business is the setup, customization & management of  \"Contact Centers\" using a variety of technologies, products, and standards.\\n\\n\\nIn 2009 Bartolomeo led the setup of Soulsoftware, a new business unit within Softphone which acts as a software factory and he is responsible for productization of the company\\'s technological assets and providing professional services in the technological domain. \\nIn this role, he has created and managed the development team and selected the  technology topics to follow.\\n \\nHe believes in \\n\\n\\n1. \"Web As Platform\" paradigm and therefore  in Services  and the Cloud  \\n\\n\\n2. \"Software Factory\" as  union of \"processes & tools\" that could guarantee \"quality\" of code, \"reusability\" of  assets, and collaboration across diverse and distributed teams\\n\\n\\nEDUCATION\\n\\n\\nHigh School Diploma - Institute of Technical education with informatics specialization\\nI.T.I.S - F. Giordani, Naples, Italy, 1985 - 1986\\n\\n\\n\\n\\nENGLISH LANGUAGE:\\nWritten: good;        \\nSpoken: good;\\n\\n\\nPRIVATE INTEREST (passions)\\n\\n\\n* SPORT (Soccer, Tennis, Swimming, Gym)\\n* MOVIES (SciFi, Action)\\n* COMICS\\n\\n\\n\\n\\nCERTIFICATION\\n\\n\\n‘VeraStream EAI developer’ received by WRQ Software YEAR 1998 (Amsterdam)\\n\\n\\n\\n\\nKEY TECHNOLOGY SKILLS        \\n\\n\\nAs a software architect Bartolomeo has dealt with projects concerning Enterprise Application Integration, Products Lifecycle Management, build Mobile & Embedded systems and delivering Complex Real Time Architectures\\n\\n\\nHe use methodologies like Agile, eXtreme Programming and he  has Cloud experience (PAAS)  in particular on Azure, GCP and AWS\\n\\n\\nRegarding “Hands On” skill He has a “full-stack” development expertise and  currently works with language such as Java ( jdk8-19 ), Swift, Typescript, Rust and PowerFx on different technology stacks  and runtime  (Nodejs, Webassembly, spring-boot, PowerApps )\\n\\n\\nLately his interest is focused on the “Low-Code” business platforms (e.g. Microsoft Power Platform ) that he consider an important driver in the “digital transformation” next scenarios\\n\\t\\n\\n\\t\\n\\nPUBLICATIONS / OPEN SOURCE CONTRIBUTION\\n\\n\\nConcerning Open Source Contribution he has published several projects, the most representative ones are outlined below:\\n \\n* Maven plugin\\n   * Maven Confluence Plugin https://github.com/bsorrentino/maven-confluence-plugin Maven report plugin that allow to generate and upload \"project info\" as wiki page ‘confluence compliant’ \\n   * Maven Annotation Plugin https://github.com/bsorrentino/maven-annotation-plugin A maven plugin to process annotation at compile time\\n* Mobile\\n   * SlideOnTV - The application\\'s purpose is to make easy and comfortable (from your sofa) to watch the presentations on your TV. (https://github.com/bsorrentino/slidesOnTV)\\n\\n\\n* Publication upon Italian Magazine named ‘ Mobility LAB’ (www.mobilitylab.it) title :’ l’autobus diventa un web server’,  concerning use of standard components to manage activities of On Board Embedded Computer\\n* He also contribute to Medium and Dev.to online magazines\\n\\n\\n\\n\\n\\n\\n\\n\\nWORK EXPERIENCE TIMELINE\\n\\n\\nCurrently involved in the following activities:\\n* Consultant as Solution Architect for an international company whose main focus is on  pharmaceutical distribution where he is dealing with the Microservice Architecture migration, definition  & implementation.\\n* Defining and maintaining architecture for air drone simulation platform..\\n* Evaluation of tools & Technologies for implementing Micro Front End Architecture.\\n* Evaluation of Microsoft Power Platform in order to include it as Soulsoftware\\'s strategic stream. \\n\\n\\nFrom December 2013  - SoulSoftware Srl (Avellino - Italy)\\nSoftware Factory Lead  \\n\\n\\nMain Activities\\n* Definition of Client & Mobile strategies for a big customer\\n* Development of SDK for “Proximity Marketing” using the iBeacon technology\\n* Evaluation of use of Native  or Hybrid (WebRTC)  approach for implementation of “SIP enabled” mobile devices for contact center\\n\\n\\n\\n\\nFrom December 2010  - SoulSoftware Srl (Avellino - Italy)\\nSoftware Factory Lead  \\n\\n\\nParticipate in the setup of the company SoulSoftware Ltd. whose mandate is to become the Software Factory of the Softphone Ltd. and a center of research and development focused upon the new  Mobile Technology & Cloud\\n\\n\\nAssumed responsibility to Software Factory\\'s setup. The activities were  :\\n* Select & Build a development team \\n* Market Analysis upon Cloud Services (SAAS, PAAS)\\n   * Google App Engine\\n   * CloudBees \\n* Definition of target \\n   * IOS - IPhone/ IPad\\n   * Android 2.3.x - 4.x\\n* Selection of  technologies & framework both for native and multi-platform development\\n   * Mobile GWT\\n   * Sencha Touch\\n   * Cordova/Phonegap (plugin development)\\n\\n\\n\\n\\nFrom july 2008 - Softphone Srl (Pavia - Italy)\\nSoftware Factory Lead \\n\\n\\nAssumed responsibility to Software Factory\\'s setup. The activities were  :\\n* Build a development team\\n* Definition of software lifecycle processes from requirements to delivery\\n* Selection of  technologies & tools able to set up a collaboration system allowing remote working.\\n\\n\\nIn this period he also deals with the design and implementation of software solutions related to contact center system built using GenesysTM System and in particular deals with integration between back-end systems (CRM, document management , ...) , operator desktop management, SIP Voice Recorder, Automatic Speech Recognition   and voice portals development.\\n\\n\\nAlso contributes to the definition of a strategy/technology plan  which aims to introduce in the production chain of software factory know-how and technologies related to mobile computing with a special attention to IPhone/IPad.\\nRelate to  Mobile proposal he has developed several Mobile APP to give values to Softphone Assets Portfolio \\n\\n\\n* IAudit - IPad console to control Genesys contact center operational work \\n(take a look to presentation video http://www.screencast.com/t/UFuTRi3B24u)\\n\\n\\n\\n\\nFrom  february  2005 to July 2008 - Herzum Software  (Chicago IL)\\nPrincipal Architect\\n\\n\\nChicago (US)\\nLondon(UK)\\n\\tAssumed for the design and definition of an architecture related to B2B and B2C portal for a large pharmaceutical distribution group headquartered in the UK.\\n\\n\\nDuring this period, held mostly in Chicago, acquires a good knowledge of the issues related to managing remote groups and aquires knowledge of the new methodological approach named COSM.\\n\\n\\n\\tCosenza (IT)\\n\\tIn Italy he deals with setup of a solution center  in Cosenza, organization of a development team to build the portal platform and  supporting of platforms already in place\\n\\n\\n\\tNapoli (IT)\\n\\tConsultant at the company SDC in Naples.\\n\\n\\nHe plays the role of architect for the support and development of a distributed pharmaceutical ERP system based upon SOA and developed using Herzum’s platform.\\n\\n\\nIn this period he collaborated with the client in the definition/integration  of   features/processes having as goal to introduce and implement higher levels of SOA Maturity Model and, in particular, deals with definition of a performance model capable of ensuring the requirements\\n\\n\\n\\tParis(FR)\\n\\tAttends architectural meetings for gathering technicians\\'s GAP(s), related to porting and integration of the ERP system in the French context\\n\\n\\n\\tNapoli (IT)\\nChicago(US)\\nCosenza (IT)\\n\\tBecome a Technical Lead of the \\'Herzum R&D Group\\'  and participates in the definition of requirements and implementation architecture for the construction of a Software Factory \\'COSM\\' based that follow the dictates of the ALM (Application Lifecycle Management)\\n\\t\\n\\n\\tCoordinates the R & D team (12 people between Cosenza, Chicago and Ankara) for developing the system (dead-line March 31, 2008)\\n\\tRabat (Marocco)\\n\\tHe is engaged as a consultant for the definition of a software factory for the creation of suitable services for e-government portal\\n\\t\\n\\n\\n\\nFrom 1994 to  2005 - Italdata S.p.A (Avellino - Italy) - Siemens Business Services group \\nTechnical Architect\\n\\n\\n\\n\\n\\n\\n10 months\\n\\tAllocated to mobile computing as  team leader. In this period he participated in the Analysis and Design of an onboard system for transportation vehicles that communicate with an operations center, problems related to localization, diagnosis, management and emergency routes communicating via GPRS / WiFi / GSM / Radio. \\n\\t2 years\\n\\tAllocated to Small & Medium Enterprise Area participates in the following projects /activities:\\n\\n\\nDesign and Implementation of Web systems concerning B2B with the use of standards for exchanging information based on XML (Web Service).\\n\\n\\nStudy of Open Source frameworks for the creation of portals with content management issues.\\nAnalysis for integrating single sign-on systems for solving problems of authentication and authorization in a portals’ network.\\n\\n\\nStudy of the problems related to load-balancing and fault tolerance in mission-critical web applications.\\n\\n\\n\\t1 year\\n\\tAllocated to training area participates in the following activities:\\n\\n\\nTraining IT staff of Siemens AG of EAI architecture and development of B2B e-business projects in a multi-company and multi-process through the Microsoftt BizTalk Server.\\n \\nPreparing / conducting training both internal / external on design / development of web based software.\\n \\nCourses in C / C + +, using Rational Rose for design and development phases, using Oracle JDeveloper to create data-oriented applications, Use of DNA and J2EE platform.\\n \\n\\t2 years\\n \\n\\tAllocated to the Finance Area as senior developer  participates in the following projects /activities:\\n\\n\\nDesign and implementation of web-based banking system integrated with legacy systems.\\n\\n\\nSolving problems of interfacing to legacy systems (AS400-MVS) with characteristics of resource optimization for integration in multi-tier application servers \\n\\n\\n\\t4 years\\n\\tAllocated to Telco area as consultant participates in the following projects /activities:\\n \\nDeveloping  front-office  software management service centers to telecom network 182.\\n\\n\\nTelecom consulting services for the creation of software for intelligent data processing networks.\\n\\n\\nTelecom Consultancy in the development environment for X Windows / Motif software for data analysis of the intelligent network addressing issues of acquisition by the BS2000 host.\\n\\t\\n\\n\\n\\nFrom 1991 to 1994 Database SW S.p.A (Caserta - Italy)  Analysis & development\\n\\n\\nDuring this period he participates as an analyst / developer to the following activities:\\n \\n   * Development of software for bank branches in the IBM environment.\\n   * Design / graphics frameworks multi platforms\\n   * Acquiring knowledge of object-oriented methodology for analysis, design and development\\n\\n\\nFrom 1988 to 1991 Tower Computer S.n.C (Napoli - Italy) Development\\n\\n\\nDuring this period he participates as an analyst / developer to the following activities:\\n\\n\\n   * Developing \\'common purpose\\' software for small and medium enterprise\\n\\n\\n\\n\\n\\n\\n________________\\n\\n\\n /', metadata={'source': '../CV_en.txt'})]\n"
     ]
    }
   ],
   "source": [
    "from langchain.document_loaders import TextLoader\n",
    "loader = TextLoader(\"../CV_en.txt\")\n",
    "cv = loader.load()\n",
    "\n",
    "print(cv)"
   ]
  },
  {
   "cell_type": "code",
   "execution_count": 7,
   "metadata": {},
   "outputs": [],
   "source": [
    "import os\n",
    "from langchain.llms import OpenAI\n",
    "import openai\n",
    "\n",
    "openai.api_base = \"http://localhost:1234/v1\"\n",
    "llm = OpenAI(temperature=0.9, openai_api_key=\"\")\n",
    "\n"
   ]
  },
  {
   "cell_type": "code",
   "execution_count": 8,
   "metadata": {},
   "outputs": [
    {
     "name": "stdout",
     "output_type": "stream",
     "text": [
      " Here are a few suggestions for a company name that makes colorful socks:.\n",
      " 1. SoleMates - This play on the word \"soulmate\" conveys the idea of finding the perfect match, which is fitting for socks that come in a variety of colors and patterns.\n",
      "2. Hue & Cry - This name plays off the phrase \"all hell broke loose,\" but replaces the word \"hell\" with \"hue,\" which refers to color. It also implies excitement and drama, which could be appealing to customers looking for fun socks.\n",
      "3. Toe-tally Awesome - This name incorporates a playful pun on the phrase \"totally awesome,\" which conveys a sense of enthusiasm and excitement. It's catchy and easy to remember, making it a great option for a company that wants to be memorable.\n",
      "4. ColorFiesta - This name combines the words \"color\" and \"fiesta\" to create a festive and lively atmosphere. It conveys the idea of a celebration in every sock, which could appeal to customers looking for fun and vibrant footwear.\n",
      "5. Soleful H\n"
     ]
    }
   ],
   "source": [
    "text = \"What would be a good company name a company that makes colorful socks?\"\n",
    "\n",
    "print( llm( text ) )"
   ]
  }
 ],
 "metadata": {
  "kernelspec": {
   "display_name": "Python 3",
   "language": "python",
   "name": "python3"
  },
  "language_info": {
   "codemirror_mode": {
    "name": "ipython",
    "version": 3
   },
   "file_extension": ".py",
   "mimetype": "text/x-python",
   "name": "python",
   "nbconvert_exporter": "python",
   "pygments_lexer": "ipython3",
   "version": "3.11.6"
  }
 },
 "nbformat": 4,
 "nbformat_minor": 2
}
