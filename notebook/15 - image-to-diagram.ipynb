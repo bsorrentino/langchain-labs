{
 "cells": [
  {
   "cell_type": "code",
   "execution_count": 1,
   "metadata": {},
   "outputs": [
    {
     "name": "stdout",
     "output_type": "stream",
     "text": [
      "Translate diagram in image in a plantUML script following rules below:\n",
      "\n",
      "1. every rectangle or icon must be translate in plantuml rectangle element with related label if any\n",
      "2. every rectangle that contains other elements must be translated in plantuml rectangle {}  element\n",
      "\n",
      "answer with only plantuml script \n"
     ]
    }
   ],
   "source": [
    "from langchain import hub\n",
    "from langchain_openai import ChatOpenAI\n",
    "\n",
    "prompt = hub.pull('bsorrentino/image_to_plantuml')\n",
    "\n",
    "print( prompt.format() )\n"
   ]
  },
  {
   "cell_type": "code",
   "execution_count": 2,
   "metadata": {},
   "outputs": [],
   "source": [
    "from langchain import hub\n",
    "from langchain_openai import ChatOpenAI\n",
    "from langchain.schema.messages import HumanMessage\n",
    "\n",
    "\n",
    "def converImageToDiagram(image_url_or_data: str):\n",
    "\n",
    "    prompt = hub.pull('bsorrentino/image_to_plantuml').format()\n",
    "    \n",
    "    openai = ChatOpenAI(model=\"gpt-4-vision-preview\",\n",
    "        max_tokens=2000,\n",
    "        temperature=0.5\n",
    "    )\n",
    "\n",
    "    response = openai.invoke([\n",
    "        HumanMessage(content=[\n",
    "                {\n",
    "                    \"type\": \"text\", \n",
    "                    \"text\": prompt\n",
    "                },\n",
    "                {\n",
    "                    \"type\": \"image_url\",\n",
    "                    \"image_url\": {\n",
    "                        \"url\": image_url_or_data\n",
    "                    },\n",
    "                },\n",
    "            ]\n",
    "        )\n",
    "    ])\n",
    "\n",
    "    return response.content\n",
    "\n"
   ]
  },
  {
   "cell_type": "code",
   "execution_count": 3,
   "metadata": {},
   "outputs": [
    {
     "name": "stderr",
     "output_type": "stream",
     "text": [
      "/Users/bsorrentino/WORKSPACES/GITHUB.me/AI/langchain-labs/langchain-labs#main/.venv/lib/python3.11/site-packages/tqdm/auto.py:21: TqdmWarning: IProgress not found. Please update jupyter and ipywidgets. See https://ipywidgets.readthedocs.io/en/stable/user_install.html\n",
      "  from .autonotebook import tqdm as notebook_tqdm\n"
     ]
    },
    {
     "name": "stdout",
     "output_type": "stream",
     "text": [
      "Running on local URL:  http://127.0.0.1:7860\n",
      "\n",
      "To create a public link, set `share=True` in `launch()`.\n"
     ]
    },
    {
     "data": {
      "text/html": [
       "<div><iframe src=\"http://127.0.0.1:7860/\" width=\"100%\" height=\"500\" allow=\"autoplay; camera; microphone; clipboard-read; clipboard-write;\" frameborder=\"0\" allowfullscreen></iframe></div>"
      ],
      "text/plain": [
       "<IPython.core.display.HTML object>"
      ]
     },
     "metadata": {},
     "output_type": "display_data"
    },
    {
     "data": {
      "text/plain": []
     },
     "execution_count": 3,
     "metadata": {},
     "output_type": "execute_result"
    },
    {
     "name": "stdout",
     "output_type": "stream",
     "text": [
      "```plantuml\n",
      "@startuml\n",
      "\n",
      "rectangle \"Event Stream\" as ES\n",
      "\n",
      "rectangle SP {\n",
      "    rectangle \"Preprocessing\" as Pre\n",
      "    rectangle \"LLM Application\" as LLMApp\n",
      "    rectangle \"Postprocessing\" as Post\n",
      "}\n",
      "\n",
      "rectangle \"Output\" as Out\n",
      "rectangle \"Observability\\n(Metrics, Logs, etc.)\" as Obs\n",
      "\n",
      "rectangle \"LLM Service\\n(eg., OpenAI)\" as LLMServ\n",
      "rectangle \"LLM Tracing\\n(eg., LangSmith)\" as LLMTrac\n",
      "\n",
      "ES -right-> Pre\n",
      "Pre -right-> LLMApp\n",
      "LLMApp -right-> Post\n",
      "Post -right-> Out\n",
      "\n",
      "LLMApp -down-> LLMServ\n",
      "LLMApp -down-> LLMTrac\n",
      "LLMApp -up-> Obs\n",
      "\n",
      "note right of SP\n",
      "  Stream Processor (eg., Kafka Consumer, Celery, RabbitMQ, SQS)\n",
      "end note\n",
      "\n",
      "@enduml\n",
      "```\n"
     ]
    }
   ],
   "source": [
    "import gradio as gr\n",
    "import base64, io\n",
    "import PIL\n",
    "from os import path \n",
    "\n",
    "def process_image(image: PIL.Image.Image):\n",
    "\n",
    "    try:\n",
    "        in_mem_file = io.BytesIO()\n",
    "    \n",
    "        image.save( in_mem_file, format = image.format if image.format is not None else 'PNG' )\n",
    "        encoded_string = base64.b64encode(in_mem_file.getvalue())\n",
    "        \n",
    "        imageData = \"data:image/png;base64,\" + encoded_string.decode('utf-8')\n",
    "\n",
    "        result =  converImageToDiagram(imageData) \n",
    "\n",
    "        print( result )\n",
    "\n",
    "        return result\n",
    "\n",
    "    except Exception as e:\n",
    "        return \"Error: \" + str(e)\n",
    "\n",
    "\n",
    "demo = gr.Interface(\n",
    "    fn=process_image,\n",
    "    inputs=[\n",
    "        gr.Image(type=\"pil\")\n",
    "    ],\n",
    "    outputs=[\n",
    "        gr.Markdown()\n",
    "    ],\n",
    "    # flagging_options=[\"blurry\", \"incorrect\", \"other\"],\n",
    "    examples=[\n",
    "        path.join( \"..\",  \"docs\", \"img_p3_1.png\" )\n",
    "    ],\n",
    ")\n",
    "\n",
    "# if __name__ == \"__main__\":\n",
    "#     demo.launch()\n",
    "\n",
    "demo.launch()"
   ]
  }
 ],
 "metadata": {
  "kernelspec": {
   "display_name": ".venv",
   "language": "python",
   "name": "python3"
  },
  "language_info": {
   "codemirror_mode": {
    "name": "ipython",
    "version": 3
   },
   "file_extension": ".py",
   "mimetype": "text/x-python",
   "name": "python",
   "nbconvert_exporter": "python",
   "pygments_lexer": "ipython3",
   "version": "3.11.7"
  }
 },
 "nbformat": 4,
 "nbformat_minor": 2
}
