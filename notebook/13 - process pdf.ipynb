{
 "cells": [
  {
   "cell_type": "code",
   "execution_count": null,
   "metadata": {},
   "outputs": [],
   "source": [
    "import fitz \n",
    "doc = fitz.open('../docs/pp-licenses.pdf') \n",
    "for page in doc: \n",
    "    pix = page.get_pixmap(matrix=fitz.Identity, dpi=None, \n",
    "                          colorspace=fitz.csRGB, clip=None, alpha=False, annots=True) \n",
    "    pix.save(\"samplepdfimage-%i.jpg\" % page.number)  # save file "
   ]
  },
  {
   "cell_type": "code",
   "execution_count": null,
   "metadata": {},
   "outputs": [],
   "source": [
    "# STEP 1 \n",
    "# import libraries \n",
    "import fitz \n",
    "import io \n",
    "from PIL import Image \n",
    "  \n",
    "# STEP 2 \n",
    "# file path you want to extract images from \n",
    "file = \"../docs/pp-licenses.pdf\"\n",
    "  \n",
    "# open the file \n",
    "pdf_file = fitz.open(file) \n",
    "  \n",
    "# STEP 3 \n",
    "# iterate over PDF pages \n",
    "for page_index in range(len(pdf_file)): \n",
    "  \n",
    "    # get the page itself \n",
    "    page = pdf_file[page_index] \n",
    "    image_list = page.get_images() \n",
    "  \n",
    "    # printing number of images found in this page \n",
    "    if image_list: \n",
    "        print( \n",
    "            f\"[+] Found a total of {len(image_list)} images in page {page_index}\") \n",
    "    else: \n",
    "        print(\"[!] No images found on page\", page_index) \n",
    "    for image_index, img in enumerate(page.get_images(), start=1): \n",
    "  \n",
    "        # get the XREF of the image \n",
    "        xref = img[0] \n",
    "  \n",
    "        # extract the image bytes \n",
    "        base_image = pdf_file.extract_image(xref) \n",
    "        image_bytes = base_image[\"image\"] \n",
    "  \n",
    "        # get the image extension \n",
    "        image_ext = base_image[\"ext\"] "
   ]
  }
 ],
 "metadata": {
  "kernelspec": {
   "display_name": ".venv",
   "language": "python",
   "name": "python3"
  },
  "language_info": {
   "codemirror_mode": {
    "name": "ipython",
    "version": 3
   },
   "file_extension": ".py",
   "mimetype": "text/x-python",
   "name": "python",
   "nbconvert_exporter": "python",
   "pygments_lexer": "ipython3",
   "version": "3.11.7"
  }
 },
 "nbformat": 4,
 "nbformat_minor": 2
}
