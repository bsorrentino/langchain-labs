{
 "cells": [
  {
   "cell_type": "markdown",
   "metadata": {},
   "source": [
    "Function descriptions "
   ]
  },
  {
   "cell_type": "code",
   "execution_count": null,
   "metadata": {},
   "outputs": [],
   "source": [
    "\n",
    "function_descriptions = [\n",
    "    {\n",
    "        \"name\": \"export_solution\",\n",
    "        \"description\": \"export dataverse solution from remote environment to local file system\",\n",
    "        \"parameters\": {\n",
    "            \"type\": \"object\",\n",
    "            \"properties\": {\n",
    "                \"solution\": {\n",
    "                    \"type\": \"string\",\n",
    "                    \"description\": \"the remote solution name\",\n",
    "                }\n",
    "            },\n",
    "            \"required\": [\"solution\"],\n",
    "        },\n",
    "    },\n",
    "    {\n",
    "        \"name\": \"export_solution\",\n",
    "        \"description\": \"export a dataverse solution to remove environment\",\n",
    "        \"parameters\": {\n",
    "            \"type\": \"object\",\n",
    "            \"properties\": {\n",
    "                \"path\": {\n",
    "                    \"type\": \"string\",\n",
    "                    \"description\": \"the solution path\",\n",
    "                },\n",
    "                \"environment\": {\n",
    "                    \"type\": \"string\",\n",
    "                    \"description\": \"the target environment\",\n",
    "                },\n",
    "                \"type\": {\n",
    "                    \"type\": \"string\",\n",
    "                    \"description\": \"the solution type\",\n",
    "                    \"enum\": [\"managed\", \"unmanaged\", \"both\"]\n",
    "                },\n",
    "            },\n",
    "            \"required\": [\"path\", \"environment\"],\n",
    "        },\n",
    "    }\n",
    "];"
   ]
  },
  {
   "cell_type": "markdown",
   "metadata": {},
   "source": [
    "call OpenAI api providing the `function descriptions` "
   ]
  },
  {
   "cell_type": "code",
   "execution_count": null,
   "metadata": {},
   "outputs": [],
   "source": [
    "\n",
    "import openai\n",
    "import os\n",
    "\n",
    "__USE_AZURE = False \n",
    "\n",
    "user_query1 = \"let import the solution 'mysolution.zip' from path '/tmp' in environment 'bartolo' as unmanaged\"\n",
    "user_query = \"\"\"\n",
    "let export solution 'test' and import it from path '/tmp' in environment 'bartolo' as unmanaged\n",
    "\"\"\"\n",
    "\n",
    "messages = [{\"role\": \"user\", \"content\": user_query}]\n",
    "\n",
    "model = \"gpt-3.5-turbo-0613\"\n",
    "\n",
    "if __USE_AZURE:\n",
    "    openai.api_key = os.getenv(\"AZURE_OPENAI_API_KEY\").rstrip()\n",
    "    openai.api_version = \"2023-07-01-preview\"\n",
    "    openai.api_type = \"azure\"\n",
    "    openai.api_base = os.getenv(\"AZURE_OPENAI_API_BASE\").rstrip()\n",
    "    deployment_id = \"Calling-Function\"\n",
    "else:\n",
    "    openai.api_key = os.environ[\"OPENAI_API_KEY\"].rstrip()\n",
    "    openai.api_version = None\n",
    "    openai.api_type = \"open_ai\"\n",
    "    openai.api_base = \"https://api.openai.com/v1\"\n",
    "    deployment_id = None\n",
    "\n",
    "response = openai.ChatCompletion.create(\n",
    "    deployment_id = deployment_id,\n",
    "    model=model,   \n",
    "    # This is the chat message from the user\n",
    "    messages=messages,\n",
    "    functions=function_descriptions,\n",
    "    function_call=\"auto\",\n",
    ")\n",
    "\n",
    "print( response.choices )\n"
   ]
  }
 ],
 "metadata": {
  "kernelspec": {
   "display_name": "Python 3",
   "language": "python",
   "name": "python3"
  },
  "language_info": {
   "codemirror_mode": {
    "name": "ipython",
    "version": 3
   },
   "file_extension": ".py",
   "mimetype": "text/x-python",
   "name": "python",
   "nbconvert_exporter": "python",
   "pygments_lexer": "ipython3",
   "version": "3.10.13"
  },
  "orig_nbformat": 4
 },
 "nbformat": 4,
 "nbformat_minor": 2
}
