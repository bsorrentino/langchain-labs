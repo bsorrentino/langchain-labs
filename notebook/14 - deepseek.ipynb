{
 "cells": [
  {
   "cell_type": "code",
   "execution_count": 7,
   "metadata": {},
   "outputs": [
    {
     "name": "stdout",
     "output_type": "stream",
     "text": [
      "Model(id='deepseek-chat', created=None, object='model', owned_by='deepseek')\n",
      "Model(id='deepseek-coder', created=None, object='model', owned_by='deepseek')\n",
      "Sure, here's an example of using the Fetch API to read a chunked transfer encoding stream:\n",
      "\n",
      "```javascript\n",
      "fetch('https://api.example.com/stream', {\n",
      "  method: 'GET'\n",
      "})\n",
      ".then(response => {\n",
      "  const reader = response.body.getReader();\n",
      "  let decoder = new TextDecoder();\n",
      "  let chunks = [];\n",
      "\n",
      "  function readChunk() {\n",
      "    return reader.read().then(({ done, value }) => {\n",
      "      if (done) {\n",
      "        let result = chunks.join('');\n",
      "        console.log(result);\n",
      "        return result;\n",
      "      }\n",
      "\n",
      "      chunks.push(decoder.decode(value, { stream: true }));\n",
      "      return readChunk();\n",
      "    });\n",
      "  }\n",
      "\n",
      "  return readChunk();\n",
      "})\n",
      ".catch(error => console.log('Error:', error));\n",
      "```\n",
      "\n",
      "This code will read the stream in chunks, decode them to text, and then log the result when the stream is done. Note that the `TextDecoder` is set to `stream: true` to handle chunked encoding.\n",
      "\n"
     ]
    }
   ],
   "source": [
    "# python3\n",
    "from openai import OpenAI\n",
    "import os\n",
    "\n",
    "\n",
    "client = OpenAI(api_key=os.environ[\"DEEPSEEK_API_KEY\"].rstrip(), \n",
    "                base_url=\"https://api.deepseek.com/v1\")\n",
    "\n",
    "# get the list of models\n",
    "for model in client.models.list().data:\n",
    "    print(model)\n",
    "\n",
    "# retrieve info of a specific model\n",
    "# print(client.models.retrieve('deepseek-chat'))\n",
    "\n",
    "# model = \"deepseek-chat\"\n",
    "model = \"deepseek-coder\"\n",
    "\n",
    "response = client.chat.completions.create(\n",
    "    model=model,\n",
    "    messages=[\n",
    "        {\"role\": \"system\", \"content\": \"You are a helpful assistant\"},\n",
    "        {\"role\": \"user\", \"content\": \n",
    "         \"\"\"\n",
    "         write javascript code to read a chunked transfer encoding streaming using fetch API \n",
    "         \"\"\"},\n",
    "  ],\n",
    "    max_tokens=1024,\n",
    "    temperature=0.7,\n",
    "    stream=False\n",
    ")\n",
    "\n",
    "print(response.choices[0].message.content)\n",
    "\n"
   ]
  }
 ],
 "metadata": {
  "kernelspec": {
   "display_name": ".venv",
   "language": "python",
   "name": "python3"
  },
  "language_info": {
   "codemirror_mode": {
    "name": "ipython",
    "version": 3
   },
   "file_extension": ".py",
   "mimetype": "text/x-python",
   "name": "python",
   "nbconvert_exporter": "python",
   "pygments_lexer": "ipython3",
   "version": "3.11.7"
  }
 },
 "nbformat": 4,
 "nbformat_minor": 2
}
