{
 "cells": [
  {
   "attachments": {},
   "cell_type": "markdown",
   "metadata": {},
   "source": [
    "[Invoice or Bill Custom Parsing using Kor (LangChain Extension), Generative Language Models & Prompt Engineering](https://blog.gopenai.com/invoice-or-bill-custom-parsing-using-kor-langchain-extension-generative-language-models-prompt-7133193358fa)"
   ]
  },
  {
   "attachments": {},
   "cell_type": "markdown",
   "metadata": {},
   "source": [
    "The first step is to load PDF file from google drive and use PDF Miner to extract raw text. Note: you need to download invoice to your local drive."
   ]
  },
  {
   "cell_type": "code",
   "execution_count": 4,
   "metadata": {},
   "outputs": [
    {
     "name": "stdout",
     "output_type": "stream",
     "text": [
      "4/15/2019  https://genesys.coupahost.com/order_headers/print_view?id=34438&version=1  25026610-8325 Smart Communications Techn Ltd 9 Seagrave Road London, SW6 7RP United Kingdom  Ship To Genesys Telecommunications Laboratories B.V. Gooimeer 6-02,1411 DD Naarden Naarden, 1411 Netherlands Attn: Racel Madamba  Genesys  PURCHASE ORDER  PO NUMBER QUOTE # DATE PAYMENT TERMS SHIPPING TERMS CURRENCY CONTRACT CONTACT  34438  1-1604415497 (Bosch)  02/11/2019  Net 45   EUR  4429  Racel Madamba  Racel_Rey.Madamba@genesys.com  Bill To Genesys Telecommunications Laboratories B.V. Gooimeer 6-02 Naarden, 1411 DD Netherlands Attn: ACCOUNTS PAYABLE Accounts.payableEMEA@genesys.com  Line  Description  1 1-1604415497 (Bosch) - (CAS) 1 year Sept 1 2018 - Aug 31 2019  Qty  Unit  Price 640.50  Total 640.50  DACH  Note to Supplier:  0 Units   640.50 EUR  IMPORTANT. Unless there is an existing contract between Vendor and Genesys applicable to the transaction subject matter of this Purchase Order, this Purchase Order shall be subject to the accompanying terms and conditions.  http://www.genesys.com/resources/legal/Purchase_Order_Terms_Conditions_(Genesys)(2013-12-10).pdf  Tax No: NL8081.86.838.B.01 Reg No: 24293219  https://genesys.coupahost.com/order_headers/print_view?id=34438&version=1  1/1        \f\n"
     ]
    }
   ],
   "source": [
    "from pdfminer.high_level import extract_text\n",
    "text = extract_text('doc1.pdf')\n",
    "\n",
    "#perform basic processing to remove \\n\n",
    "processed_text = \" \".join(text.split(\"\\n\"))\n",
    "print(processed_text)"
   ]
  },
  {
   "attachments": {},
   "cell_type": "markdown",
   "metadata": {},
   "source": [
    "The second step is to initialize ChatOpenAI model."
   ]
  },
  {
   "cell_type": "code",
   "execution_count": 5,
   "metadata": {},
   "outputs": [],
   "source": [
    "import os\n",
    "\n",
    "#import langChain ChatOpenAI module\n",
    "from langchain.chat_models import ChatOpenAI\n",
    "\n",
    "#load GPT 3.5 model\n",
    "llm_openai = ChatOpenAI(\n",
    "    model_name=\"gpt-3.5-turbo\",\n",
    "    temperature=0,\n",
    "    max_tokens=2000,\n",
    "    openai_api_key=os.environ[\"OPENAI_API_KEY\"].rstrip()\n",
    ")"
   ]
  },
  {
   "attachments": {},
   "cell_type": "markdown",
   "metadata": {},
   "source": [
    "As alternative, the second step is to initialize Azure ChatOpenAI model."
   ]
  },
  {
   "cell_type": "code",
   "execution_count": 6,
   "metadata": {},
   "outputs": [],
   "source": [
    "import os\n",
    "import openai\n",
    "\n",
    "from langchain.chat_models import AzureChatOpenAI\n",
    "\n",
    "azure_api_base =  os.getenv(\"AZURE_OPENAI_API_BASE\")\n",
    "# Configure OpenAI API\n",
    "openai.api_type = \"azure\"\n",
    "openai.api_version = \"2023-06-01-preview\"\n",
    "openai.api_base = azure_api_base\n",
    "openai.api_key = os.getenv(\"AZURE_OPENAI_API_KEY\")\n",
    "\n",
    "llm = AzureChatOpenAI(deployment_name=\"Document-Parsing\", \n",
    "                      openai_api_key= os.getenv(\"AZURE_OPENAI_API_KEY\"),\n",
    "                      openai_api_base=azure_api_base, \n",
    "                      openai_api_version=\"2023-06-01-preview\")\n",
    "\n"
   ]
  },
  {
   "attachments": {},
   "cell_type": "markdown",
   "metadata": {},
   "source": [
    "The next step is to create schema and provide examples"
   ]
  },
  {
   "cell_type": "code",
   "execution_count": 7,
   "metadata": {},
   "outputs": [],
   "source": [
    "# import neccessary packages from korr\n",
    "from kor.extraction import create_extraction_chain\n",
    "from kor.nodes import Object, Text, Number\n",
    "\n",
    "#object creation for invoice_number\n",
    "po_header = Object(\n",
    "    id=\"po_header\",\n",
    "    description=\"extraction of relevant information from purchase order\",\n",
    "    attributes=[\n",
    "        Text(\n",
    "            id=\"po_number\",\n",
    "            description= \"unique number (identifier) of given purchase order\",\n",
    "        examples=[\n",
    "            ( \"PO NUMBER 12345\", \"PO NUMBER 35658\")\n",
    "        ]),\n",
    "        Text(\n",
    "            id=\"po_quote\",\n",
    "            description= \"quote number\",\n",
    "        examples=[\n",
    "            ( \"QUOTE # 1-1604415497 (Bosch)\", \"QUOTE # \\\"1-1708903259, 109815 (1-1611484010), 108832 (1-1609457261), 108878\\\"\")\n",
    "        ]),\n",
    "        Text(\n",
    "            id=\"po_date\",\n",
    "            description= \"date\",\n",
    "        ),\n",
    "        Text(\n",
    "            id=\"po_payment_terms\",\n",
    "            description= \"get payment terms\",\n",
    "        examples=[\n",
    "            ( \"PAYMENT TERMS Net 45\", \"PAYMENT TERMS Net 30\")\n",
    "        ]),\n",
    "        Text(\n",
    "            id=\"po_shipping_terms\",\n",
    "            description= \"get shipping terms\",\n",
    "        ),\n",
    "        Text(\n",
    "            id=\"po_currency\",\n",
    "            description= \"currency\",\n",
    "        examples=[\n",
    "            ( \"CURRENCY EUR\", \"CURRENCY USD\")\n",
    "        ]),\n",
    "        Text(\n",
    "            id=\"po_contract\",\n",
    "            description= \"contract\",\n",
    "        ),\n",
    "        Text(\n",
    "            id=\"po_contact\",\n",
    "            description= \"primary contact\",\n",
    "            examples=[\n",
    "                (\"Racel Madamba  Racel_Rey.Madamba@genesys.com\", \n",
    "                \"Claire Wood claire.wood@genesys.com\")\n",
    "            ]\n",
    "        ),\n",
    "    ],\n",
    "\n",
    "    many=False,\n",
    ")"
   ]
  },
  {
   "attachments": {},
   "cell_type": "markdown",
   "metadata": {},
   "source": [
    "prompt generated by **Kor** from our object definition to pass it to the GPT model."
   ]
  },
  {
   "cell_type": "code",
   "execution_count": 8,
   "metadata": {},
   "outputs": [],
   "source": [
    "# print(po_chain.prompt.format_prompt(text=processed_text).to_string())"
   ]
  },
  {
   "cell_type": "code",
   "execution_count": 9,
   "metadata": {},
   "outputs": [],
   "source": [
    "address_schema = Object(\n",
    "    id=\"address\",\n",
    "    description=\"address details\",\n",
    "    attributes=[\n",
    "        Text(id=\"name\", description=\"the name of person and organization\"),\n",
    "        Text(id=\"address_line\", description=\"\"),\n",
    "        Text(id=\"attn\", description=\"\"),\n",
    "    ],\n",
    "    examples=[\n",
    "        (\n",
    "            \"Genesys Telecommunications Laboratories B.V. Gooimeer 6-02 Naarden, 1411 DD Netherlands Attn: ACCOUNTS PAYABLE Accounts.payableEMEA@genesys.com\",\n",
    "            {\n",
    "                \"name\": \"Genesys Telecommunications Laboratories B.V.\",\n",
    "                \"address_line\": \"Gooimeer 6-02 Naarden, 1411 DD Netherlands\",\n",
    "                \"attn\": \"Attn: ACCOUNTS PAYABLE Accounts.payableEMEA@genesys.com\",\n",
    "            },\n",
    "        ),\n",
    "        (\n",
    "            \"Genesys Telecommunications Laboratories Asia Pte Ltd. 9 Raffles Place,#18-02, Republic Plaza Republic Plaza, 048619 Singapore Attn: AP-AU@genesys.com ACCOUNTS PAYABLE\",\n",
    "            {\n",
    "                \"name\": \"Genesys Telecommunications Laboratories Asia Pte Ltd.\",\n",
    "                \"address_line\": \"9 Raffles Place,#18-02, Republic Plaza Republic Plaza, 048619 Singapore\",\n",
    "                \"attn\": \"Attn: AP-AU@genesys.com ACCOUNTS PAYABLE\",\n",
    "            },\n",
    "        ),\n",
    "        \n",
    "       (\n",
    "            \"Genesys Laboratories Australasia Pty Ltd Level 20,141 Walker Street North Sydney, NSW 2060 Australia Attn: AP-AU@genesys.com ACCOUNTS PAYABLE\",\n",
    "            {\n",
    "                \"name\": \"Genesys Laboratories Australasia Pty Ltd\",\n",
    "                \"address_line\": \"PLevel 20,141 Walker Street North Sydney, NSW 2060 Australia\",\n",
    "                \"attn\": \"Attn: AP-AU@genesys.com ACCOUNTS PAYABLE\",\n",
    "            },\n",
    "        ) \n",
    "    ],\n",
    "    many=True,\n",
    ") "
   ]
  },
  {
   "cell_type": "code",
   "execution_count": 10,
   "metadata": {},
   "outputs": [],
   "source": [
    "products_schema = Object(\n",
    "    id=\"lines\",\n",
    "    description=\"the details of bill\",\n",
    "    attributes=[\n",
    "        Number(id=\"product_line\", description=\"\"),\n",
    "        Text(id=\"product_description\", description=\"the description of the product or service\"),\n",
    "        Text(id=\"product_description2\", description=\"extra description of the product or service\"),\n",
    "        Text(id=\"product_price\", description=\"price per unit\"),\n",
    "        Text(id=\"product_total\", description=\"the total price, which is number of units * unit_price\"),\n",
    "    ],\n",
    "    examples=[\n",
    "        (\n",
    "            \"1 1-1708903259_CAS Renewal_01/01/2020 to 30/06/2021_NXO 2,789.50 2,789.50 FRANCE_La Poste_Solution Name: WDE Plugin for MS Dynamics CRM - add-on 130 seats\",\n",
    "            {\n",
    "               \"product_line\": 1, \n",
    "               \"product_description\": \"1-1708903259_CAS Renewal_01/01/2020 to 30/06/2021_NXO\",\n",
    "               \"product_description2\": \"FRANCE_La Poste_Solution Name: WDE Plugin for MS Dynamics CRM - add-on 130 seats\",\n",
    "               \"product_price\": \"2,789.50\", \n",
    "               \"product_total\": \"2,789.50\",\n",
    "            },\n",
    "        ),\n",
    "        (\n",
    "            \"4 108878_CAS Renewal_01/01/2020 to 30/06/2021_NXO 10,225.00 10,225.00 FRANCE_La Poste_Solution Name:MSCRM Dynamics Connector (730 seats) \",\n",
    "            {\n",
    "               \"product_line\": 4,\n",
    "               \"product_description\": \"108878_CAS Renewal_01/01/2020 to 30/06/2021_NXO\",\n",
    "               \"product_description2\": \"FRANCE_La Poste_Solution Name:MSCRM Dynamics Connector (730 seats)\",\n",
    "               \"product_price\": \"10,225.00\", \n",
    "               \"product_total\": \"10,225.00\",\n",
    "            },\n",
    "        ),\n",
    "        (\n",
    "            \"6 78822 (73377)_Premise CAS Renewal_01/01/2022 to 1,838.55 1,838.55 12/31/2022_IREN S.p.A._IREN S.p.A._SipVR Licensing - additional 50 licenses CAS Renewal \",\n",
    "            {\n",
    "               \"product_line\": 6,\n",
    "               \"product_description\": \"78822 (73377)_Premise CAS Renewal_01/01/2022 to\",\n",
    "               \"product_description2\": \"12/31/2022_IREN S.p.A._IREN S.p.A._SipVR Licensing - additional 50 licenses CAS Renewal 1,838.55 1,838.55\",\n",
    "               \"product_price\": \"1,838.55\", \n",
    "               \"product_total\": \"1,838.55\",\n",
    "            },\n",
    "        ),\n",
    "    ],\n",
    "    many=True\n",
    ")\n",
    "\n",
    "\n"
   ]
  },
  {
   "cell_type": "code",
   "execution_count": 11,
   "metadata": {},
   "outputs": [
    {
     "name": "stderr",
     "output_type": "stream",
     "text": [
      "/home/codespace/.python/current/lib/python3.10/site-packages/langchain/chains/llm.py:275: UserWarning: The predict_and_parse method is deprecated, instead pass an output parser directly to LLMChain.\n",
      "  warnings.warn(\n",
      "/home/codespace/.python/current/lib/python3.10/site-packages/langchain/chains/llm.py:275: UserWarning: The predict_and_parse method is deprecated, instead pass an output parser directly to LLMChain.\n",
      "  warnings.warn(\n"
     ]
    },
    {
     "name": "stdout",
     "output_type": "stream",
     "text": [
      "number of addressed found: 3\n",
      "{'name': '25026610-8325 Smart Communications Techn Ltd', 'address_line': '9 Seagrave Road London, SW6 7RP United Kingdom', 'attn': ''}\n",
      "{'name': 'Genesys Telecommunications Laboratories B.V.', 'address_line': 'Gooimeer 6-02,1411 DD Naarden Naarden, 1411 Netherlands', 'attn': 'Attn: Racel Madamba'}\n",
      "{'name': 'Genesys Telecommunications Laboratories B.V.', 'address_line': 'Gooimeer 6-02 Naarden, 1411 DD Netherlands', 'attn': 'Attn: ACCOUNTS PAYABLE Accounts.payableEMEA@genesys.com'}\n"
     ]
    },
    {
     "name": "stderr",
     "output_type": "stream",
     "text": [
      "/home/codespace/.python/current/lib/python3.10/site-packages/langchain/chains/llm.py:275: UserWarning: The predict_and_parse method is deprecated, instead pass an output parser directly to LLMChain.\n",
      "  warnings.warn(\n"
     ]
    },
    {
     "name": "stdout",
     "output_type": "stream",
     "text": [
      "number of lines found: 1\n",
      "{'product_line': '1', 'product_description': '1-1604415497 (Bosch) - (CAS) 1 year Sept 1 2018 - Aug 31 2019', 'product_description2': 'DACH', 'product_price': '640.50', 'product_total': '640.50'}\n"
     ]
    }
   ],
   "source": [
    "####################\n",
    "# HEADER CHAIN\n",
    "####################\n",
    "header_chain = create_extraction_chain(llm, po_header)\n",
    "parse_result = header_chain.predict_and_parse(text=processed_text)\n",
    "\n",
    "parse_result['data']['po_header'][0]\n",
    "\n",
    "####################\n",
    "# ADDRESS CHAIN\n",
    "####################\n",
    "address_chain = create_extraction_chain(llm, address_schema)\n",
    "\n",
    "parse_result = address_chain.predict_and_parse(text=processed_text)\n",
    "\n",
    "addresses = parse_result['data']['address']\n",
    "print( f\"number of addressed found: {len(addresses)}\" )\n",
    "\n",
    "for address in addresses:\n",
    "    print(address)\n",
    "\n",
    "####################\n",
    "# PRODUCT CHAIN\n",
    "####################\n",
    "products_chain = create_extraction_chain(llm, products_schema)\n",
    "\n",
    "parse_result = products_chain.predict_and_parse(text=processed_text)\n",
    "\n",
    "lines = parse_result['data']['lines']\n",
    "print( f\"number of lines found: {len(lines)}\" )\n",
    "\n",
    "for line in lines:\n",
    "    print(line)\n"
   ]
  },
  {
   "cell_type": "code",
   "execution_count": null,
   "metadata": {},
   "outputs": [],
   "source": []
  }
 ],
 "metadata": {
  "kernelspec": {
   "display_name": "Python 3",
   "language": "python",
   "name": "python3"
  },
  "language_info": {
   "codemirror_mode": {
    "name": "ipython",
    "version": 3
   },
   "file_extension": ".py",
   "mimetype": "text/x-python",
   "name": "python",
   "nbconvert_exporter": "python",
   "pygments_lexer": "ipython3",
   "version": "3.10.4"
  },
  "orig_nbformat": 4
 },
 "nbformat": 4,
 "nbformat_minor": 2
}
