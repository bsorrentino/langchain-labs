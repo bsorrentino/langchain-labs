{
 "cells": [
  {
   "attachments": {},
   "cell_type": "markdown",
   "metadata": {},
   "source": [
    "[Invoice or Bill Custom Parsing using Kor (LangChain Extension), Generative Language Models & Prompt Engineering](https://blog.gopenai.com/invoice-or-bill-custom-parsing-using-kor-langchain-extension-generative-language-models-prompt-7133193358fa)"
   ]
  },
  {
   "attachments": {},
   "cell_type": "markdown",
   "metadata": {},
   "source": [
    "The first step is to load PDF file from google drive and use PDF Miner to extract raw text. Note: you need to download invoice to your local drive."
   ]
  },
  {
   "cell_type": "code",
   "execution_count": null,
   "metadata": {},
   "outputs": [],
   "source": [
    "from pdfminer.high_level import extract_text\n",
    "text = extract_text('doc1.pdf')\n",
    "\n",
    "#perform basic processing to remove \\n\n",
    "processed_text = \" \".join(text.split(\"\\n\"))\n",
    "print(processed_text)"
   ]
  },
  {
   "attachments": {},
   "cell_type": "markdown",
   "metadata": {},
   "source": [
    "The second step is to initialize ChatOpenAI model."
   ]
  },
  {
   "cell_type": "code",
   "execution_count": null,
   "metadata": {},
   "outputs": [],
   "source": [
    "import os\n",
    "\n",
    "#import langChain ChatOpenAI module\n",
    "from langchain.chat_models import ChatOpenAI\n",
    "\n",
    "#load GPT 3.5 model\n",
    "llm_openai = ChatOpenAI(\n",
    "    model_name=\"gpt-3.5-turbo\",\n",
    "    temperature=0,\n",
    "    max_tokens=2000,\n",
    "    openai_api_key=os.environ[\"OPENAI_API_KEY\"].rstrip()\n",
    ")"
   ]
  },
  {
   "attachments": {},
   "cell_type": "markdown",
   "metadata": {},
   "source": [
    "As alternative, the second step is to initialize Azure ChatOpenAI model."
   ]
  },
  {
   "cell_type": "code",
   "execution_count": null,
   "metadata": {},
   "outputs": [],
   "source": [
    "import os\n",
    "import openai\n",
    "\n",
    "from langchain.chat_models import AzureChatOpenAI\n",
    "\n",
    "azure_api_base =  os.getenv(\"AZURE_OPENAI_API_BASE\")\n",
    "# Configure OpenAI API\n",
    "openai.api_type = \"azure\"\n",
    "openai.api_version = \"2023-06-01-preview\"\n",
    "openai.api_base = azure_api_base\n",
    "openai.api_key = os.getenv(\"AZURE_OPENAI_API_KEY\")\n",
    "\n",
    "llm = AzureChatOpenAI(deployment_name=\"Document-Parsing\", \n",
    "                      openai_api_key= os.getenv(\"AZURE_OPENAI_API_KEY\"),\n",
    "                      openai_api_base=azure_api_base, \n",
    "                      openai_api_version=\"2023-06-01-preview\")\n",
    "\n"
   ]
  },
  {
   "attachments": {},
   "cell_type": "markdown",
   "metadata": {},
   "source": [
    "The next step is to create schema and provide examples"
   ]
  },
  {
   "cell_type": "code",
   "execution_count": null,
   "metadata": {},
   "outputs": [],
   "source": [
    "# import neccessary packages from korr\n",
    "from kor.extraction import create_extraction_chain\n",
    "from kor.nodes import Object, Text, Number\n",
    "\n",
    "#object creation for invoice_number\n",
    "header_schema = Object(\n",
    "    id=\"header\",\n",
    "    description=\"header details\",\n",
    "    attributes=[\n",
    "        Text(\n",
    "            id=\"number\",\n",
    "            description= \"unique number (identifier) of given purchase order\",\n",
    "        examples=[\n",
    "            ( \"PO NUMBER 12345\", \"PO NUMBER 35658\")\n",
    "        ]),\n",
    "        Text(\n",
    "            id=\"quote\",\n",
    "            description= \"quote number\",\n",
    "        examples=[\n",
    "            ( \"QUOTE # 1-1604415497 (Bosch)\", \"QUOTE # \\\"1-1708903259, 109815 (1-1611484010), 108832 (1-1609457261), 108878\\\"\")\n",
    "        ]),\n",
    "        Text(\n",
    "            id=\"date\",\n",
    "            description= \"date\",\n",
    "        ),\n",
    "        Text(\n",
    "            id=\"payment_terms\",\n",
    "            description= \"get payment terms\",\n",
    "        examples=[\n",
    "            ( \"PAYMENT TERMS Net 45\", \"PAYMENT TERMS Net 30\")\n",
    "        ]),\n",
    "        Text(\n",
    "            id=\"shipping_terms\",\n",
    "            description= \"get shipping terms\",\n",
    "        ),\n",
    "        Text(\n",
    "            id=\"currency\",\n",
    "            description= \"currency\",\n",
    "        examples=[\n",
    "            ( \"CURRENCY EUR\", \"CURRENCY USD\")\n",
    "        ]),\n",
    "        Text(\n",
    "            id=\"contract\",\n",
    "            description= \"contract\",\n",
    "        ),\n",
    "        Text(\n",
    "            id=\"contact\",\n",
    "            description= \"primary contact\",\n",
    "            examples=[\n",
    "                (\"Racel Madamba  Racel_Rey.Madamba@genesys.com\", \n",
    "                \"Claire Wood claire.wood@genesys.com\")\n",
    "            ]\n",
    "        ),\n",
    "    ],\n",
    "\n",
    "    many=False,\n",
    ")"
   ]
  },
  {
   "attachments": {},
   "cell_type": "markdown",
   "metadata": {},
   "source": [
    "prompt generated by **Kor** from our object definition to pass it to the GPT model."
   ]
  },
  {
   "cell_type": "code",
   "execution_count": null,
   "metadata": {},
   "outputs": [],
   "source": [
    "products_schema = Object(\n",
    "    id=\"lines\",\n",
    "    description=\"the details of bill\",\n",
    "    attributes=[\n",
    "        Number(id=\"line\", description=\"\"),\n",
    "        Text(id=\"description\", description=\"the description of the product or service\"),\n",
    "        Text(id=\"description2\", description=\"extra description of the product or service\"),\n",
    "        Text(id=\"price\", description=\"price per unit\"),\n",
    "        Text(id=\"total\", description=\"the total price, which is number of units * unit_price\"),\n",
    "    ],\n",
    "    examples=[\n",
    "        (\n",
    "            \"1 1-1708903259_CAS Renewal_01/01/2020 to 30/06/2021_NXO 2,789.50 2,789.50 FRANCE_La Poste_Solution Name: WDE Plugin for MS Dynamics CRM - add-on 130 seats\",\n",
    "            {\n",
    "               \"line\": 1, \n",
    "               \"description\": \"1-1708903259_CAS Renewal_01/01/2020 to 30/06/2021_NXO\",\n",
    "               \"description2\": \"FRANCE_La Poste_Solution Name: WDE Plugin for MS Dynamics CRM - add-on 130 seats\",\n",
    "               \"price\": \"2,789.50\", \n",
    "               \"total\": \"2,789.50\",\n",
    "            },\n",
    "        ),\n",
    "        (\n",
    "            \"4 108878_CAS Renewal_01/01/2020 to 30/06/2021_NXO 10,225.00 10,225.00 FRANCE_La Poste_Solution Name:MSCRM Dynamics Connector (730 seats) \",\n",
    "            {\n",
    "               \"line\": 4,\n",
    "               \"description\": \"108878_CAS Renewal_01/01/2020 to 30/06/2021_NXO\",\n",
    "               \"description2\": \"FRANCE_La Poste_Solution Name:MSCRM Dynamics Connector (730 seats)\",\n",
    "               \"price\": \"10,225.00\", \n",
    "               \"total\": \"10,225.00\",\n",
    "            },\n",
    "        ),\n",
    "        (\n",
    "            \"6 78822 (73377)_Premise CAS Renewal_01/01/2022 to 1,838.55 1,838.55 12/31/2022_IREN S.p.A._IREN S.p.A._SipVR Licensing - additional 50 licenses CAS Renewal \",\n",
    "            {\n",
    "               \"line\": 6,\n",
    "               \"description\": \"78822 (73377)_Premise CAS Renewal_01/01/2022 to\",\n",
    "               \"description2\": \"12/31/2022_IREN S.p.A._IREN S.p.A._SipVR Licensing - additional 50 licenses CAS Renewal 1,838.55 1,838.55\",\n",
    "               \"price\": \"1,838.55\", \n",
    "               \"total\": \"1,838.55\",\n",
    "            },\n",
    "        ),\n",
    "    ],\n",
    "    many=True\n",
    ")\n",
    "\n",
    "\n"
   ]
  },
  {
   "attachments": {},
   "cell_type": "markdown",
   "metadata": {},
   "source": [
    "Create a Purchase Order schema containing all previous defined sub schema "
   ]
  },
  {
   "cell_type": "code",
   "execution_count": null,
   "metadata": {},
   "outputs": [],
   "source": [
    "\n",
    "####################\n",
    "# PO SCHEMA \n",
    "####################\n",
    "\n",
    "po_schema = Object(\n",
    "    id=\"po\",\n",
    "    description=\"extraction of relevant information from purchase order\",\n",
    "    attributes=[\n",
    "        header_schema,\n",
    "        address_schema,\n",
    "        products_schema,\n",
    "\n",
    "    ],\n",
    "\n",
    "    many=False,\n",
    ")\n",
    "po_chain = create_extraction_chain(llm, po_schema, encoder_or_encoder_class=\"json\", input_formatter=None)\n"
   ]
  },
  {
   "attachments": {},
   "cell_type": "markdown",
   "metadata": {},
   "source": [
    "Print the **prompt**  generated by **Kor** from our object definition to pass it to the GPT model."
   ]
  },
  {
   "cell_type": "code",
   "execution_count": null,
   "metadata": {},
   "outputs": [],
   "source": [
    "print(po_chain.prompt.format_prompt(text=processed_text).to_string())"
   ]
  },
  {
   "attachments": {},
   "cell_type": "markdown",
   "metadata": {},
   "source": [
    "provide prompt to the llm chain and print result"
   ]
  },
  {
   "cell_type": "code",
   "execution_count": null,
   "metadata": {},
   "outputs": [],
   "source": [
    "parse_result = po_chain.predict_and_parse(text=processed_text)\n",
    "\n",
    "parse_result"
   ]
  }
 ],
 "metadata": {
  "kernelspec": {
   "display_name": "Python 3",
   "language": "python",
   "name": "python3"
  },
  "language_info": {
   "codemirror_mode": {
    "name": "ipython",
    "version": 3
   },
   "file_extension": ".py",
   "mimetype": "text/x-python",
   "name": "python",
   "nbconvert_exporter": "python",
   "pygments_lexer": "ipython3",
   "version": "3.10.4"
  },
  "orig_nbformat": 4
 },
 "nbformat": 4,
 "nbformat_minor": 2
}
