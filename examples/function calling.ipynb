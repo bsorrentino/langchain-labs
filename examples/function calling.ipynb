{
 "cells": [
  {
   "cell_type": "code",
   "execution_count": 1,
   "metadata": {},
   "outputs": [],
   "source": [
    "\n",
    "function_descriptions = [\n",
    "    {\n",
    "        \"name\": \"export_solution\",\n",
    "        \"description\": \"export a dataverse solution to remove environment\",\n",
    "        \"parameters\": {\n",
    "            \"type\": \"object\",\n",
    "            \"properties\": {\n",
    "                \"path\": {\n",
    "                    \"type\": \"string\",\n",
    "                    \"description\": \"the solution path\",\n",
    "                },\n",
    "                \"environment\": {\n",
    "                    \"type\": \"string\",\n",
    "                    \"description\": \"the target environment\",\n",
    "                    \"enum\": [\"celsius\", \"fahrenheit\"]\n",
    "                },\n",
    "                \"type\": {\n",
    "                    \"type\": \"string\",\n",
    "                    \"description\": \"the solution type\",\n",
    "                    \"enum\": [\"managed\", \"unmanaged\", \"both\"]\n",
    "                },\n",
    "            },\n",
    "            \"required\": [\"path\", \"environment\"],\n",
    "        },\n",
    "    }\n",
    "];"
   ]
  },
  {
   "cell_type": "code",
   "execution_count": 6,
   "metadata": {},
   "outputs": [
    {
     "name": "stdout",
     "output_type": "stream",
     "text": [
      "{\n",
      "  \"id\": \"chatcmpl-7UF2Zc1wHxVRV1AL56KJcox7lYuGs\",\n",
      "  \"object\": \"chat.completion\",\n",
      "  \"created\": 1687442011,\n",
      "  \"model\": \"gpt-3.5-turbo-0613\",\n",
      "  \"choices\": [\n",
      "    {\n",
      "      \"index\": 0,\n",
      "      \"message\": {\n",
      "        \"role\": \"assistant\",\n",
      "        \"content\": null,\n",
      "        \"function_call\": {\n",
      "          \"name\": \"export_solution\",\n",
      "          \"arguments\": \"{\\n  \\\"path\\\": \\\"/tmp/mysolution.zip\\\",\\n  \\\"environment\\\": \\\"bartolo\\\",\\n  \\\"type\\\": \\\"unmanaged\\\"\\n}\"\n",
      "        }\n",
      "      },\n",
      "      \"finish_reason\": \"function_call\"\n",
      "    }\n",
      "  ],\n",
      "  \"usage\": {\n",
      "    \"prompt_tokens\": 111,\n",
      "    \"completion_tokens\": 35,\n",
      "    \"total_tokens\": 146\n",
      "  }\n",
      "}\n"
     ]
    }
   ],
   "source": [
    "\n",
    "import openai\n",
    "import os\n",
    "\n",
    "\n",
    "openai.api_key = os.environ[\"OPENAI_API_KEY\"].rstrip()\n",
    "\n",
    "user_query = \"let import the solution 'mysolution.zip' from path '/tmp' in environment 'bartolo' as unmanaged\"\n",
    "\n",
    "response = openai.ChatCompletion.create(\n",
    "        model=\"gpt-3.5-turbo-0613\",\n",
    "        \n",
    "        # This is the chat message from the user\n",
    "        messages=[{\"role\": \"user\", \"content\": user_query}],\n",
    "        functions=function_descriptions,\n",
    "        function_call=\"auto\",\n",
    "    )\n",
    "print( response )\n"
   ]
  },
  {
   "cell_type": "code",
   "execution_count": null,
   "metadata": {},
   "outputs": [],
   "source": []
  }
 ],
 "metadata": {
  "kernelspec": {
   "display_name": "Python 3",
   "language": "python",
   "name": "python3"
  },
  "language_info": {
   "codemirror_mode": {
    "name": "ipython",
    "version": 3
   },
   "file_extension": ".py",
   "mimetype": "text/x-python",
   "name": "python",
   "nbconvert_exporter": "python",
   "pygments_lexer": "ipython3",
   "version": "3.10.4"
  },
  "orig_nbformat": 4
 },
 "nbformat": 4,
 "nbformat_minor": 2
}
