{
 "cells": [
  {
   "attachments": {},
   "cell_type": "markdown",
   "metadata": {},
   "source": [
    "[Invoice or Bill Custom Parsing using Kor (LangChain Extension), Generative Language Models & Prompt Engineering](https://blog.gopenai.com/invoice-or-bill-custom-parsing-using-kor-langchain-extension-generative-language-models-prompt-7133193358fa)"
   ]
  },
  {
   "attachments": {},
   "cell_type": "markdown",
   "metadata": {},
   "source": [
    "The first step is to load PDF file from google drive and use PDF Miner to extract raw text. Note: you need to download invoice to your local drive."
   ]
  },
  {
   "cell_type": "code",
   "execution_count": 1,
   "metadata": {},
   "outputs": [
    {
     "name": "stdout",
     "output_type": "stream",
     "text": [
      "4/15/2019  https://genesys.coupahost.com/order_headers/print_view?id=34438&version=1  25026610-8325 Smart Communications Techn Ltd 9 Seagrave Road London, SW6 7RP United Kingdom  Ship To Genesys Telecommunications Laboratories B.V. Gooimeer 6-02,1411 DD Naarden Naarden, 1411 Netherlands Attn: Racel Madamba  Genesys  PURCHASE ORDER  PO NUMBER QUOTE # DATE PAYMENT TERMS SHIPPING TERMS CURRENCY CONTRACT CONTACT  34438  1-1604415497 (Bosch)  02/11/2019  Net 45   EUR  4429  Racel Madamba  Racel_Rey.Madamba@genesys.com  Bill To Genesys Telecommunications Laboratories B.V. Gooimeer 6-02 Naarden, 1411 DD Netherlands Attn: ACCOUNTS PAYABLE Accounts.payableEMEA@genesys.com  Line  Description  1 1-1604415497 (Bosch) - (CAS) 1 year Sept 1 2018 - Aug 31 2019  Qty  Unit  Price 640.50  Total 640.50  DACH  Note to Supplier:  0 Units   640.50 EUR  IMPORTANT. Unless there is an existing contract between Vendor and Genesys applicable to the transaction subject matter of this Purchase Order, this Purchase Order shall be subject to the accompanying terms and conditions.  http://www.genesys.com/resources/legal/Purchase_Order_Terms_Conditions_(Genesys)(2013-12-10).pdf  Tax No: NL8081.86.838.B.01 Reg No: 24293219  https://genesys.coupahost.com/order_headers/print_view?id=34438&version=1  1/1        \f\n"
     ]
    }
   ],
   "source": [
    "from pdfminer.high_level import extract_text\n",
    "text = extract_text('doc1.pdf')\n",
    "\n",
    "#perform basic processing to remove \\n\n",
    "processed_text = \" \".join(text.split(\"\\n\"))\n",
    "print(processed_text)"
   ]
  },
  {
   "attachments": {},
   "cell_type": "markdown",
   "metadata": {},
   "source": [
    "The second step is to install the required packages and load libraries for modeling."
   ]
  },
  {
   "cell_type": "code",
   "execution_count": null,
   "metadata": {},
   "outputs": [],
   "source": [
    "#import langChain ChatOpenAI module\n",
    "from langchain.chat_models import ChatOpenAI\n",
    "\n",
    "#load GPT 3.5 model\n",
    "llm = ChatOpenAI(\n",
    "    model_name=\"gpt-3.5-turbo\",\n",
    "    temperature=0,\n",
    "    max_tokens=2000,\n",
    "    openai_api_key=openai_api_key\n",
    ")\n",
    "\n",
    "# import neccessary packages from korr\n",
    "from kor.extraction import create_extraction_chain\n",
    "from kor.nodes import Object, Text, Number"
   ]
  }
 ],
 "metadata": {
  "kernelspec": {
   "display_name": "Python 3",
   "language": "python",
   "name": "python3"
  },
  "language_info": {
   "codemirror_mode": {
    "name": "ipython",
    "version": 3
   },
   "file_extension": ".py",
   "mimetype": "text/x-python",
   "name": "python",
   "nbconvert_exporter": "python",
   "pygments_lexer": "ipython3",
   "version": "3.10.4"
  },
  "orig_nbformat": 4
 },
 "nbformat": 4,
 "nbformat_minor": 2
}
